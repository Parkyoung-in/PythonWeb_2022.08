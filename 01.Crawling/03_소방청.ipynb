{
  "nbformat": 4,
  "nbformat_minor": 0,
  "metadata": {
    "colab": {
      "name": "03.소방청.ipynb",
      "provenance": [],
      "collapsed_sections": []
    },
    "kernelspec": {
      "name": "python3",
      "display_name": "Python 3"
    },
    "language_info": {
      "name": "python"
    }
  },
  "cells": [
    {
      "cell_type": "code",
      "source": [
        "!apt-get update > /dev/null 2>&1\n",
        "!pip install selenium > /dev/null 2>&1\n",
        "!apt install chromium-chromedriver > /dev/null 2>&1"
      ],
      "metadata": {
        "id": "UH4zmnenYczo"
      },
      "execution_count": 75,
      "outputs": []
    },
    {
      "cell_type": "code",
      "execution_count": 76,
      "metadata": {
        "id": "b3u9ssRVW55R"
      },
      "outputs": [],
      "source": [
        "import time\n",
        "from selenium import webdriver\n",
        "from selenium.webdriver.common.keys import Keys\n",
        "from selenium.webdriver.common.by import By\n",
        "import pandas as pd\n",
        "from bs4 import BeautifulSoup"
      ]
    },
    {
      "cell_type": "code",
      "source": [
        "options = webdriver.ChromeOptions()\n",
        "options.add_argument('--headless') # 화면없이 실행\n",
        "options.add_argument('--no-sandbox')\n",
        "options.add_argument('--single-process')\n",
        "options.add_argument('--disable-dev-shm-usage')\n",
        "driver = webdriver.Chrome('chromedriver', options=options)"
      ],
      "metadata": {
        "id": "3yLiLFugYOa6"
      },
      "execution_count": 166,
      "outputs": []
    },
    {
      "cell_type": "code",
      "source": [
        "import warnings\n",
        "warnings.filterwarnings('ignore')"
      ],
      "metadata": {
        "id": "_vRif5uEYkL-"
      },
      "execution_count": 78,
      "outputs": []
    },
    {
      "cell_type": "code",
      "source": [
        "url = 'https://www.nfa.go.kr/nfa/introduce/status/firestationidfo/?searchDistance=10&searchMode=distance&myX=35.1493479&myY=126.9218479&searchKeyword='\n",
        "driver.get(url) #코랩은 화면 안뜸"
      ],
      "metadata": {
        "id": "MHRzH19jYyBH"
      },
      "execution_count": 130,
      "outputs": []
    },
    {
      "cell_type": "code",
      "source": [
        "# 입력창에 광주를 입력하고 검색 버튼을 누르는 동작\n",
        "driver.find_element(By.ID, 'searchKeyword').send_keys('광주광역시')# 입력창에 광주를 입력\n",
        "driver.find_element(By.ID, 'fsSearchBtn').click() #검색 버튼을 누르는 동작"
      ],
      "metadata": {
        "id": "Ehb4vC1Paj7w"
      },
      "execution_count": 131,
      "outputs": []
    },
    {
      "cell_type": "markdown",
      "source": [
        "### 이동 후에는 BeautifulSoup 이용하여 정보를 획득"
      ],
      "metadata": {
        "id": "GMhH-1RmbmBg"
      }
    },
    {
      "cell_type": "code",
      "source": [
        "soup = BeautifulSoup(driver.page_source, 'html.parser')\n",
        "lis = soup.select('.stations-list > li')\n",
        "len(lis)"
      ],
      "metadata": {
        "colab": {
          "base_uri": "https://localhost:8080/"
        },
        "id": "FLW0ghFnbD9A",
        "outputId": "dd6fc85a-5644-4571-d74a-9f79740b8fc6"
      },
      "execution_count": 132,
      "outputs": [
        {
          "output_type": "execute_result",
          "data": {
            "text/plain": [
              "10"
            ]
          },
          "metadata": {},
          "execution_count": 132
        }
      ]
    },
    {
      "cell_type": "code",
      "source": [
        "li = lis[0]\n",
        "name = li.select_one('.title').get_text().strip()\n",
        "name"
      ],
      "metadata": {
        "colab": {
          "base_uri": "https://localhost:8080/",
          "height": 36
        },
        "id": "ZUbxjU3cdwsH",
        "outputId": "e5cc017d-7834-42e5-9130-214ee2509850"
      },
      "execution_count": 133,
      "outputs": [
        {
          "output_type": "execute_result",
          "data": {
            "text/plain": [
              "'광산소방서_광주-평동-119 안전센터'"
            ],
            "application/vnd.google.colaboratory.intrinsic+json": {
              "type": "string"
            }
          },
          "metadata": {},
          "execution_count": 133
        }
      ]
    },
    {
      "cell_type": "code",
      "source": [
        "addr = li.find('address').string.strip()\n",
        "addr"
      ],
      "metadata": {
        "colab": {
          "base_uri": "https://localhost:8080/",
          "height": 36
        },
        "id": "WwtEwSNoeCqw",
        "outputId": "ec40840b-1706-449f-be8d-1c9448447212"
      },
      "execution_count": 134,
      "outputs": [
        {
          "output_type": "execute_result",
          "data": {
            "text/plain": [
              "'광주광역시 광산구 월전동 1251'"
            ],
            "application/vnd.google.colaboratory.intrinsic+json": {
              "type": "string"
            }
          },
          "metadata": {},
          "execution_count": 134
        }
      ]
    },
    {
      "cell_type": "code",
      "source": [
        "tel = li.select_one('.tel').get_text().strip()\n",
        "tel"
      ],
      "metadata": {
        "colab": {
          "base_uri": "https://localhost:8080/",
          "height": 36
        },
        "id": "i3ozPxsJeP7e",
        "outputId": "fb69c282-fc4b-4ce9-d082-5a602e2d31b4"
      },
      "execution_count": 135,
      "outputs": [
        {
          "output_type": "execute_result",
          "data": {
            "text/plain": [
              "'전화공사중'"
            ],
            "application/vnd.google.colaboratory.intrinsic+json": {
              "type": "string"
            }
          },
          "metadata": {},
          "execution_count": 135
        }
      ]
    },
    {
      "cell_type": "code",
      "source": [
        "lines = []\n",
        "for li in lis:\n",
        "  name = li.select_one('.title').get_text().strip()\n",
        "  addr = li.find('address').string.strip()\n",
        "  tel = li.select_one('.tel').get_text().strip()\n",
        "  lines.append([name, addr, tel])"
      ],
      "metadata": {
        "id": "La_DzNPjeXnu"
      },
      "execution_count": 136,
      "outputs": []
    },
    {
      "cell_type": "markdown",
      "source": [
        "# 두번째 페이지 이동"
      ],
      "metadata": {
        "id": "X1vhPWb7e6zJ"
      }
    },
    {
      "cell_type": "code",
      "source": [
        "driver.find_element(By.XPATH, '//*[@id=\"listForm\"]/div/section/ul/li[1]/div/div/ul/li[5]/a').click()"
      ],
      "metadata": {
        "id": "X0r2M1ROe2as"
      },
      "execution_count": 137,
      "outputs": []
    },
    {
      "cell_type": "code",
      "source": [
        "soup = BeautifulSoup(driver.page_source, 'html.parser')\n",
        "lis = soup.select('.stations-list > li')\n",
        "len(lis)"
      ],
      "metadata": {
        "colab": {
          "base_uri": "https://localhost:8080/"
        },
        "id": "cjzRkZxBfRFq",
        "outputId": "8e42f0e0-6f14-4c01-a319-79a1f6815ddd"
      },
      "execution_count": 138,
      "outputs": [
        {
          "output_type": "execute_result",
          "data": {
            "text/plain": [
              "9"
            ]
          },
          "metadata": {},
          "execution_count": 138
        }
      ]
    },
    {
      "cell_type": "markdown",
      "source": [
        "# 다음 페이지 이동"
      ],
      "metadata": {
        "id": "J3WXESWefjAP"
      }
    },
    {
      "cell_type": "code",
      "source": [
        "driver.find_element(By.CSS_SELECTOR, '.next_page').click()"
      ],
      "metadata": {
        "id": "yr2_cu66fcqV"
      },
      "execution_count": 139,
      "outputs": []
    },
    {
      "cell_type": "markdown",
      "source": [
        "<h1><b>전체"
      ],
      "metadata": {
        "id": "QiPuZbK3gdpW"
      }
    },
    {
      "cell_type": "code",
      "source": [
        "# 검색결과 건수 획득\n",
        "strongs=soup.select('.stations-local-after > p > strong')\n",
        "strongs[1].get_text()"
      ],
      "metadata": {
        "colab": {
          "base_uri": "https://localhost:8080/",
          "height": 36
        },
        "id": "U2UY7Kg4f8D5",
        "outputId": "b9c14234-bcf3-42cf-9934-8de0d136a5a0"
      },
      "execution_count": 167,
      "outputs": [
        {
          "output_type": "execute_result",
          "data": {
            "text/plain": [
              "'29건'"
            ],
            "application/vnd.google.colaboratory.intrinsic+json": {
              "type": "string"
            }
          },
          "metadata": {},
          "execution_count": 167
        }
      ]
    },
    {
      "cell_type": "code",
      "source": [
        "count = int(strongs[1].get_text().replace('건','').strip())\n",
        "count"
      ],
      "metadata": {
        "colab": {
          "base_uri": "https://localhost:8080/"
        },
        "id": "3FNsJuOAg8lM",
        "outputId": "8b8b2922-71d2-438c-dda7-40d228948f5b"
      },
      "execution_count": 168,
      "outputs": [
        {
          "output_type": "execute_result",
          "data": {
            "text/plain": [
              "29"
            ]
          },
          "metadata": {},
          "execution_count": 168
        }
      ]
    },
    {
      "cell_type": "code",
      "source": [
        "import math\n",
        "count = math.ceil(count/10) #ceil 몫+1(딱 떨어지지 않는 경우에만)\n",
        "count"
      ],
      "metadata": {
        "colab": {
          "base_uri": "https://localhost:8080/"
        },
        "id": "ZOupgDO3jdWb",
        "outputId": "177a8315-18cd-4155-d18a-9cad9c71e4d4"
      },
      "execution_count": 169,
      "outputs": [
        {
          "output_type": "execute_result",
          "data": {
            "text/plain": [
              "3"
            ]
          },
          "metadata": {},
          "execution_count": 169
        }
      ]
    },
    {
      "cell_type": "code",
      "source": [
        "driver.get(url)\n",
        "time.sleep(1)\n",
        "driver.find_element(By.ID, 'searchKeyword').send_keys('광주광역시')\n",
        "driver.find_element(By.ID, 'fsSearchBtn').click()"
      ],
      "metadata": {
        "id": "jSOmpfNGkL5n"
      },
      "execution_count": 170,
      "outputs": []
    },
    {
      "cell_type": "code",
      "source": [
        "lines = []\n",
        "for i in range(count):\n",
        "    if i != 0 and i % 2 == 0:\n",
        "        driver.find_element(By.CSS_SELECTOR, '.next_page').click()\n",
        "    elif i != 0 and i % 2 == 1:\n",
        "        driver.find_element(By.XPATH, '//*[@id=\"listForm\"]/div/section/ul/li[1]/div/div/ul/li[4]/a').click()\n",
        "    time.sleep(2)\n",
        "    soup = BeautifulSoup(driver.page_source, 'html.parser')\n",
        "    lis = soup.select('.stations-list > li')\n",
        "    for li in lis:\n",
        "        name = li.select_one('.title').get_text().strip()\n",
        "        addr = li.find('address').string.strip()\n",
        "        tel = li.select_one('.tel').get_text().strip()\n",
        "        lines.append([name, addr, tel])"
      ],
      "metadata": {
        "id": "60vn8NI4pIxu"
      },
      "execution_count": 172,
      "outputs": []
    },
    {
      "cell_type": "code",
      "source": [
        "len(lines)"
      ],
      "metadata": {
        "colab": {
          "base_uri": "https://localhost:8080/"
        },
        "id": "cTetZsw4lP-W",
        "outputId": "fb55df5a-c5c5-4c5e-cdad-493125efcea6"
      },
      "execution_count": 173,
      "outputs": [
        {
          "output_type": "execute_result",
          "data": {
            "text/plain": [
              "29"
            ]
          },
          "metadata": {},
          "execution_count": 173
        }
      ]
    },
    {
      "cell_type": "code",
      "source": [
        "driver.close()"
      ],
      "metadata": {
        "id": "6817rKQwlXo7"
      },
      "execution_count": 174,
      "outputs": []
    },
    {
      "cell_type": "code",
      "source": [
        "df = pd.DataFrame(lines, columns=['관서명','주소','전화번호'])\n",
        "df"
      ],
      "metadata": {
        "colab": {
          "base_uri": "https://localhost:8080/",
          "height": 959
        },
        "id": "y2PzMFbdlisA",
        "outputId": "2d3c76dd-1104-4507-fed5-e7b87085f518"
      },
      "execution_count": 175,
      "outputs": [
        {
          "output_type": "execute_result",
          "data": {
            "text/plain": [
              "                     관서명                            주소          전화번호\n",
              "0   광산소방서_광주-평동-119 안전센터            광주광역시 광산구 월전동 1251         전화공사중\n",
              "1   광산소방서_광주-첨단-119 안전센터  광주광역시 광산구 임방울대로825번길 16(쌍암동)  062-606-4883\n",
              "2   광산소방서_광주-신가-119 안전센터        광주광역시 광산구 수등로 236(신가동)  062-606-4863\n",
              "3   광산소방서_광주-비아-119 안전센터     광주광역시 광산구 비아로12번길 10(비아동)  062-606-4843\n",
              "4   광산소방서_광주-월곡-119 안전센터        광주광역시 광산구 사암로 276(월곡동)  062-606-4823\n",
              "5   광산소방서_광주-송정-119 안전센터      광주광역시 광산구 상무대로 93-1(도산동)  062-606-4803\n",
              "6   광산소방서_광주-하남-119 안전센터     광주광역시 광산구 하남산단1번로 13(하남동)  062-606-4903\n",
              "7   북부소방서_광주-동림-119 안전센터        광주광역시 북구 북문대로 202(동림동)  062-606-4783\n",
              "8   북부소방서_광주-두암-119 안전센터           광주광역시 북구 삼정로 5(두암동)  062-606-4763\n",
              "9   북부소방서_광주-일곡-119 안전센터         광주광역시 북구 설죽로 529(일곡동)  062-606-4743\n",
              "10  북부소방서_광주-우산-119 안전센터        광주광역시 북구 동문대로 127(우산동)  062-606-4723\n",
              "11  북부소방서_광주-임동-119 안전센터            광주광역시 북구 서림로 5(임동)  062-606-4703\n",
              "12  북부소방서_광주-문흥-119 안전센터         광주광역시 북구 서하로 290(오치동)  062-606-4353\n",
              "13  남부소방서_광주-봉선-119 안전센터          광주광역시 남구 오방로 63(방림동)  062-606-4623\n",
              "14  남부소방서_광주-월산-119 안전센터          광주광역시 남구 수박등로 1(월산동)  062-606-4603\n",
              "15  남부소방서_광주-송하-119 안전센터      광주광역시 남구 송암로58번길 13(송하동)  062-606-4303\n",
              "16  서부소방서_광주-풍암-119 안전센터         광주광역시 서구 회재로 907(금호동)  062-606-4564\n",
              "17  서부소방서_광주-상무-119 안전센터          광주광역시 서구 치평로 65(치평동)  062-606-4543\n",
              "18  서부소방서_광주-금호-119 안전센터         광주광역시 서구 운천로 112(쌍촌동)  062-606-4525\n",
              "19  서부소방서_광주-염주-119 안전센터          광주광역시 서구 염화로 77(화정동)  062-606-4507\n",
              "20  서부소방서_광주-화정-119 안전센터         광주광역시 서구 화운로 197(화정동)  062-606-4255\n",
              "21  동부소방서_광주-학운-119 안전센터          광주광역시 동구 남문로 692(학동)  062-606-4403\n",
              "22  동부소방서_광주-지산-119 안전센터      광주광역시 동구 밤실로30번길 16(지산동)  062-606-4423\n",
              "23  동부소방서_광주-대인-119 안전센터         광주광역시 동구 제봉로 210(대인동)  062-606-4203\n",
              "24                 광산소방서     광주광역시 광산구 하남산단1번로 13(하남동)  062-613-8813\n",
              "25                 남부소방서      광주광역시 남구 송암로58번길 13(송하동)  062-613-8613\n",
              "26                 동부소방서         광주광역시 동구 제봉로 210(대인동)  062-613-8413\n",
              "27                 북부소방서         광주광역시 북구 서하로 290(오치동)  062-613-8713\n",
              "28                 서부소방서         광주광역시 서구 화운로 197(화정동)  062-613-8513"
            ],
            "text/html": [
              "\n",
              "  <div id=\"df-9f065a89-c440-41ea-b1b2-1fd5786b8d61\">\n",
              "    <div class=\"colab-df-container\">\n",
              "      <div>\n",
              "<style scoped>\n",
              "    .dataframe tbody tr th:only-of-type {\n",
              "        vertical-align: middle;\n",
              "    }\n",
              "\n",
              "    .dataframe tbody tr th {\n",
              "        vertical-align: top;\n",
              "    }\n",
              "\n",
              "    .dataframe thead th {\n",
              "        text-align: right;\n",
              "    }\n",
              "</style>\n",
              "<table border=\"1\" class=\"dataframe\">\n",
              "  <thead>\n",
              "    <tr style=\"text-align: right;\">\n",
              "      <th></th>\n",
              "      <th>관서명</th>\n",
              "      <th>주소</th>\n",
              "      <th>전화번호</th>\n",
              "    </tr>\n",
              "  </thead>\n",
              "  <tbody>\n",
              "    <tr>\n",
              "      <th>0</th>\n",
              "      <td>광산소방서_광주-평동-119 안전센터</td>\n",
              "      <td>광주광역시 광산구 월전동 1251</td>\n",
              "      <td>전화공사중</td>\n",
              "    </tr>\n",
              "    <tr>\n",
              "      <th>1</th>\n",
              "      <td>광산소방서_광주-첨단-119 안전센터</td>\n",
              "      <td>광주광역시 광산구 임방울대로825번길 16(쌍암동)</td>\n",
              "      <td>062-606-4883</td>\n",
              "    </tr>\n",
              "    <tr>\n",
              "      <th>2</th>\n",
              "      <td>광산소방서_광주-신가-119 안전센터</td>\n",
              "      <td>광주광역시 광산구 수등로 236(신가동)</td>\n",
              "      <td>062-606-4863</td>\n",
              "    </tr>\n",
              "    <tr>\n",
              "      <th>3</th>\n",
              "      <td>광산소방서_광주-비아-119 안전센터</td>\n",
              "      <td>광주광역시 광산구 비아로12번길 10(비아동)</td>\n",
              "      <td>062-606-4843</td>\n",
              "    </tr>\n",
              "    <tr>\n",
              "      <th>4</th>\n",
              "      <td>광산소방서_광주-월곡-119 안전센터</td>\n",
              "      <td>광주광역시 광산구 사암로 276(월곡동)</td>\n",
              "      <td>062-606-4823</td>\n",
              "    </tr>\n",
              "    <tr>\n",
              "      <th>5</th>\n",
              "      <td>광산소방서_광주-송정-119 안전센터</td>\n",
              "      <td>광주광역시 광산구 상무대로 93-1(도산동)</td>\n",
              "      <td>062-606-4803</td>\n",
              "    </tr>\n",
              "    <tr>\n",
              "      <th>6</th>\n",
              "      <td>광산소방서_광주-하남-119 안전센터</td>\n",
              "      <td>광주광역시 광산구 하남산단1번로 13(하남동)</td>\n",
              "      <td>062-606-4903</td>\n",
              "    </tr>\n",
              "    <tr>\n",
              "      <th>7</th>\n",
              "      <td>북부소방서_광주-동림-119 안전센터</td>\n",
              "      <td>광주광역시 북구 북문대로 202(동림동)</td>\n",
              "      <td>062-606-4783</td>\n",
              "    </tr>\n",
              "    <tr>\n",
              "      <th>8</th>\n",
              "      <td>북부소방서_광주-두암-119 안전센터</td>\n",
              "      <td>광주광역시 북구 삼정로 5(두암동)</td>\n",
              "      <td>062-606-4763</td>\n",
              "    </tr>\n",
              "    <tr>\n",
              "      <th>9</th>\n",
              "      <td>북부소방서_광주-일곡-119 안전센터</td>\n",
              "      <td>광주광역시 북구 설죽로 529(일곡동)</td>\n",
              "      <td>062-606-4743</td>\n",
              "    </tr>\n",
              "    <tr>\n",
              "      <th>10</th>\n",
              "      <td>북부소방서_광주-우산-119 안전센터</td>\n",
              "      <td>광주광역시 북구 동문대로 127(우산동)</td>\n",
              "      <td>062-606-4723</td>\n",
              "    </tr>\n",
              "    <tr>\n",
              "      <th>11</th>\n",
              "      <td>북부소방서_광주-임동-119 안전센터</td>\n",
              "      <td>광주광역시 북구 서림로 5(임동)</td>\n",
              "      <td>062-606-4703</td>\n",
              "    </tr>\n",
              "    <tr>\n",
              "      <th>12</th>\n",
              "      <td>북부소방서_광주-문흥-119 안전센터</td>\n",
              "      <td>광주광역시 북구 서하로 290(오치동)</td>\n",
              "      <td>062-606-4353</td>\n",
              "    </tr>\n",
              "    <tr>\n",
              "      <th>13</th>\n",
              "      <td>남부소방서_광주-봉선-119 안전센터</td>\n",
              "      <td>광주광역시 남구 오방로 63(방림동)</td>\n",
              "      <td>062-606-4623</td>\n",
              "    </tr>\n",
              "    <tr>\n",
              "      <th>14</th>\n",
              "      <td>남부소방서_광주-월산-119 안전센터</td>\n",
              "      <td>광주광역시 남구 수박등로 1(월산동)</td>\n",
              "      <td>062-606-4603</td>\n",
              "    </tr>\n",
              "    <tr>\n",
              "      <th>15</th>\n",
              "      <td>남부소방서_광주-송하-119 안전센터</td>\n",
              "      <td>광주광역시 남구 송암로58번길 13(송하동)</td>\n",
              "      <td>062-606-4303</td>\n",
              "    </tr>\n",
              "    <tr>\n",
              "      <th>16</th>\n",
              "      <td>서부소방서_광주-풍암-119 안전센터</td>\n",
              "      <td>광주광역시 서구 회재로 907(금호동)</td>\n",
              "      <td>062-606-4564</td>\n",
              "    </tr>\n",
              "    <tr>\n",
              "      <th>17</th>\n",
              "      <td>서부소방서_광주-상무-119 안전센터</td>\n",
              "      <td>광주광역시 서구 치평로 65(치평동)</td>\n",
              "      <td>062-606-4543</td>\n",
              "    </tr>\n",
              "    <tr>\n",
              "      <th>18</th>\n",
              "      <td>서부소방서_광주-금호-119 안전센터</td>\n",
              "      <td>광주광역시 서구 운천로 112(쌍촌동)</td>\n",
              "      <td>062-606-4525</td>\n",
              "    </tr>\n",
              "    <tr>\n",
              "      <th>19</th>\n",
              "      <td>서부소방서_광주-염주-119 안전센터</td>\n",
              "      <td>광주광역시 서구 염화로 77(화정동)</td>\n",
              "      <td>062-606-4507</td>\n",
              "    </tr>\n",
              "    <tr>\n",
              "      <th>20</th>\n",
              "      <td>서부소방서_광주-화정-119 안전센터</td>\n",
              "      <td>광주광역시 서구 화운로 197(화정동)</td>\n",
              "      <td>062-606-4255</td>\n",
              "    </tr>\n",
              "    <tr>\n",
              "      <th>21</th>\n",
              "      <td>동부소방서_광주-학운-119 안전센터</td>\n",
              "      <td>광주광역시 동구 남문로 692(학동)</td>\n",
              "      <td>062-606-4403</td>\n",
              "    </tr>\n",
              "    <tr>\n",
              "      <th>22</th>\n",
              "      <td>동부소방서_광주-지산-119 안전센터</td>\n",
              "      <td>광주광역시 동구 밤실로30번길 16(지산동)</td>\n",
              "      <td>062-606-4423</td>\n",
              "    </tr>\n",
              "    <tr>\n",
              "      <th>23</th>\n",
              "      <td>동부소방서_광주-대인-119 안전센터</td>\n",
              "      <td>광주광역시 동구 제봉로 210(대인동)</td>\n",
              "      <td>062-606-4203</td>\n",
              "    </tr>\n",
              "    <tr>\n",
              "      <th>24</th>\n",
              "      <td>광산소방서</td>\n",
              "      <td>광주광역시 광산구 하남산단1번로 13(하남동)</td>\n",
              "      <td>062-613-8813</td>\n",
              "    </tr>\n",
              "    <tr>\n",
              "      <th>25</th>\n",
              "      <td>남부소방서</td>\n",
              "      <td>광주광역시 남구 송암로58번길 13(송하동)</td>\n",
              "      <td>062-613-8613</td>\n",
              "    </tr>\n",
              "    <tr>\n",
              "      <th>26</th>\n",
              "      <td>동부소방서</td>\n",
              "      <td>광주광역시 동구 제봉로 210(대인동)</td>\n",
              "      <td>062-613-8413</td>\n",
              "    </tr>\n",
              "    <tr>\n",
              "      <th>27</th>\n",
              "      <td>북부소방서</td>\n",
              "      <td>광주광역시 북구 서하로 290(오치동)</td>\n",
              "      <td>062-613-8713</td>\n",
              "    </tr>\n",
              "    <tr>\n",
              "      <th>28</th>\n",
              "      <td>서부소방서</td>\n",
              "      <td>광주광역시 서구 화운로 197(화정동)</td>\n",
              "      <td>062-613-8513</td>\n",
              "    </tr>\n",
              "  </tbody>\n",
              "</table>\n",
              "</div>\n",
              "      <button class=\"colab-df-convert\" onclick=\"convertToInteractive('df-9f065a89-c440-41ea-b1b2-1fd5786b8d61')\"\n",
              "              title=\"Convert this dataframe to an interactive table.\"\n",
              "              style=\"display:none;\">\n",
              "        \n",
              "  <svg xmlns=\"http://www.w3.org/2000/svg\" height=\"24px\"viewBox=\"0 0 24 24\"\n",
              "       width=\"24px\">\n",
              "    <path d=\"M0 0h24v24H0V0z\" fill=\"none\"/>\n",
              "    <path d=\"M18.56 5.44l.94 2.06.94-2.06 2.06-.94-2.06-.94-.94-2.06-.94 2.06-2.06.94zm-11 1L8.5 8.5l.94-2.06 2.06-.94-2.06-.94L8.5 2.5l-.94 2.06-2.06.94zm10 10l.94 2.06.94-2.06 2.06-.94-2.06-.94-.94-2.06-.94 2.06-2.06.94z\"/><path d=\"M17.41 7.96l-1.37-1.37c-.4-.4-.92-.59-1.43-.59-.52 0-1.04.2-1.43.59L10.3 9.45l-7.72 7.72c-.78.78-.78 2.05 0 2.83L4 21.41c.39.39.9.59 1.41.59.51 0 1.02-.2 1.41-.59l7.78-7.78 2.81-2.81c.8-.78.8-2.07 0-2.86zM5.41 20L4 18.59l7.72-7.72 1.47 1.35L5.41 20z\"/>\n",
              "  </svg>\n",
              "      </button>\n",
              "      \n",
              "  <style>\n",
              "    .colab-df-container {\n",
              "      display:flex;\n",
              "      flex-wrap:wrap;\n",
              "      gap: 12px;\n",
              "    }\n",
              "\n",
              "    .colab-df-convert {\n",
              "      background-color: #E8F0FE;\n",
              "      border: none;\n",
              "      border-radius: 50%;\n",
              "      cursor: pointer;\n",
              "      display: none;\n",
              "      fill: #1967D2;\n",
              "      height: 32px;\n",
              "      padding: 0 0 0 0;\n",
              "      width: 32px;\n",
              "    }\n",
              "\n",
              "    .colab-df-convert:hover {\n",
              "      background-color: #E2EBFA;\n",
              "      box-shadow: 0px 1px 2px rgba(60, 64, 67, 0.3), 0px 1px 3px 1px rgba(60, 64, 67, 0.15);\n",
              "      fill: #174EA6;\n",
              "    }\n",
              "\n",
              "    [theme=dark] .colab-df-convert {\n",
              "      background-color: #3B4455;\n",
              "      fill: #D2E3FC;\n",
              "    }\n",
              "\n",
              "    [theme=dark] .colab-df-convert:hover {\n",
              "      background-color: #434B5C;\n",
              "      box-shadow: 0px 1px 3px 1px rgba(0, 0, 0, 0.15);\n",
              "      filter: drop-shadow(0px 1px 2px rgba(0, 0, 0, 0.3));\n",
              "      fill: #FFFFFF;\n",
              "    }\n",
              "  </style>\n",
              "\n",
              "      <script>\n",
              "        const buttonEl =\n",
              "          document.querySelector('#df-9f065a89-c440-41ea-b1b2-1fd5786b8d61 button.colab-df-convert');\n",
              "        buttonEl.style.display =\n",
              "          google.colab.kernel.accessAllowed ? 'block' : 'none';\n",
              "\n",
              "        async function convertToInteractive(key) {\n",
              "          const element = document.querySelector('#df-9f065a89-c440-41ea-b1b2-1fd5786b8d61');\n",
              "          const dataTable =\n",
              "            await google.colab.kernel.invokeFunction('convertToInteractive',\n",
              "                                                     [key], {});\n",
              "          if (!dataTable) return;\n",
              "\n",
              "          const docLinkHtml = 'Like what you see? Visit the ' +\n",
              "            '<a target=\"_blank\" href=https://colab.research.google.com/notebooks/data_table.ipynb>data table notebook</a>'\n",
              "            + ' to learn more about interactive tables.';\n",
              "          element.innerHTML = '';\n",
              "          dataTable['output_type'] = 'display_data';\n",
              "          await google.colab.output.renderOutput(dataTable, element);\n",
              "          const docLink = document.createElement('div');\n",
              "          docLink.innerHTML = docLinkHtml;\n",
              "          element.appendChild(docLink);\n",
              "        }\n",
              "      </script>\n",
              "    </div>\n",
              "  </div>\n",
              "  "
            ]
          },
          "metadata": {},
          "execution_count": 175
        }
      ]
    }
  ]
}